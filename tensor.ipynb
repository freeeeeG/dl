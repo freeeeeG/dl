{
 "cells": [
  {
   "cell_type": "code",
   "execution_count": 32,
   "metadata": {},
   "outputs": [],
   "source": [
    "from numpy.core.defchararray import endswith\n",
    "import torch\n",
    "import torch.nn as nn\n",
    "import torch.nn.functional as F\n",
    "from torch.optim import SGD\n",
    "import matplotlib.pyplot as plt\n",
    "import pandas as pd\n",
    "import seaborn as sns\n",
    "from torch.autograd import Variable\n",
    "import numpy as np"
   ]
  },
  {
   "cell_type": "code",
   "execution_count": 33,
   "metadata": {},
   "outputs": [
    {
     "name": "stdout",
     "output_type": "stream",
     "text": [
      "tensor([[0.9156, 0.9590, 0.1045, 0.3065, 0.1064],\n",
      "        [0.3130, 0.0911, 0.5494, 0.4634, 0.7563],\n",
      "        [0.3057, 0.0695, 0.7975, 0.2712, 0.7610],\n",
      "        [0.3105, 0.6231, 0.6702, 0.1360, 0.1572],\n",
      "        [0.0431, 0.3709, 0.2221, 0.7994, 0.2185]], requires_grad=True)\n",
      "tensor([[0.0556, 0.9167, 0.4841, 0.2821, 0.7767],\n",
      "        [0.8880, 0.5688, 0.3619, 0.7148, 0.9523],\n",
      "        [0.0254, 0.2913, 0.9282, 0.2591, 0.5028],\n",
      "        [0.2708, 0.5542, 0.2037, 0.8501, 0.8917],\n",
      "        [0.6821, 0.9818, 0.8135, 0.4032, 0.5177]], requires_grad=True)\n"
     ]
    }
   ],
   "source": [
    "x = torch.rand(5, 5, requires_grad=True)\n",
    "y = torch.rand(5, 5, requires_grad=True)\n",
    "# y[2][2] = 1\n",
    "print(x)\n",
    "print(y)"
   ]
  },
  {
   "cell_type": "code",
   "execution_count": 38,
   "metadata": {},
   "outputs": [
    {
     "name": "stdout",
     "output_type": "stream",
     "text": [
      "tensor([[ 5.5308, 15.2222,  8.3708,  8.0799, 13.7866],\n",
      "        [13.0227, 12.0912,  7.2706, 11.9741, 15.3676],\n",
      "        [ 5.2587,  9.5937, 12.3676,  7.8726, 11.3216],\n",
      "        [ 7.4677, 11.9591,  5.8467, 13.1915, 14.8220],\n",
      "        [11.1698, 15.8077, 11.3354,  9.1692, 11.4554]])\n",
      "tensor([[0.0509, 0.8791, 0.0506, 0.0865, 0.0827],\n",
      "        [0.2779, 0.0518, 0.1988, 0.3312, 0.7203],\n",
      "        [0.0078, 0.0202, 0.7403, 0.0703, 0.3826],\n",
      "        [0.0841, 0.3453, 0.1365, 0.1156, 0.1401],\n",
      "        [0.0294, 0.3641, 0.1807, 0.3223, 0.1131]], grad_fn=<MulBackward0>)\n",
      "tensor([[ 5.5864, 16.1390,  8.8550,  8.3620, 14.5633],\n",
      "        [13.9107, 12.6600,  7.6324, 12.6889, 16.3200],\n",
      "        [ 5.2841,  9.8850, 13.2958,  8.1317, 11.8244],\n",
      "        [ 7.7385, 12.5133,  6.0504, 14.0416, 15.7137],\n",
      "        [11.8520, 16.7895, 12.1490,  9.5724, 11.9730]])\n",
      "tensor([[0.0509, 0.8791, 0.0506, 0.0865, 0.0827],\n",
      "        [0.2779, 0.0518, 0.1988, 0.3312, 0.7203],\n",
      "        [0.0078, 0.0202, 0.7403, 0.0703, 0.3826],\n",
      "        [0.0841, 0.3453, 0.1365, 0.1156, 0.1401],\n",
      "        [0.0294, 0.3641, 0.1807, 0.3223, 0.1131]], grad_fn=<MulBackward0>)\n"
     ]
    }
   ],
   "source": [
    "# z = x.mm(y)\n",
    "# z.backward(torch.ones_like(x))\n",
    "# print(x.grad)\n",
    "# print(z)\n",
    "z = x.mul(y)\n",
    "z.backward(torch.ones_like(x))\n",
    "print(x.grad)\n",
    "print(z)\n",
    "z = x*y\n",
    "z.backward(torch.ones_like(x))\n",
    "print(x.grad)\n",
    "print(z)"
   ]
  },
  {
   "cell_type": "code",
   "execution_count": 39,
   "metadata": {},
   "outputs": [
    {
     "name": "stdout",
     "output_type": "stream",
     "text": [
      "tensor([0.9590, 0.7563, 0.7975, 0.6702, 0.7994], grad_fn=<MaxBackward0>) tensor([1, 4, 2, 2, 3])\n"
     ]
    }
   ],
   "source": [
    "max_value, max_idx = torch.max(x, dim=1)\n",
    "print(max_value, max_idx)"
   ]
  },
  {
   "cell_type": "code",
   "execution_count": 40,
   "metadata": {},
   "outputs": [
    {
     "name": "stdout",
     "output_type": "stream",
     "text": [
      "tensor([2.3920, 2.1732, 2.2049, 1.8970, 1.6539], grad_fn=<SumBackward1>)\n"
     ]
    }
   ],
   "source": [
    "# 每行 x 求和\n",
    "sum_x = torch.sum(x, dim=1)\n",
    "print(sum_x)"
   ]
  }
 ],
 "metadata": {
  "interpreter": {
   "hash": "06248c774c4a47fe7438a9699da36abc1501e9190cf1f60e9fdb242e7996057e"
  },
  "kernelspec": {
   "display_name": "Python 3.7.8 64-bit",
   "language": "python",
   "name": "python3"
  },
  "language_info": {
   "codemirror_mode": {
    "name": "ipython",
    "version": 3
   },
   "file_extension": ".py",
   "mimetype": "text/x-python",
   "name": "python",
   "nbconvert_exporter": "python",
   "pygments_lexer": "ipython3",
   "version": "3.7.8"
  },
  "orig_nbformat": 4
 },
 "nbformat": 4,
 "nbformat_minor": 2
}
